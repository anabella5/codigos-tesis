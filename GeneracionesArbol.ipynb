{
  "nbformat": 4,
  "nbformat_minor": 0,
  "metadata": {
    "colab": {
      "provenance": [],
      "authorship_tag": "ABX9TyNoQDGUBXQGqpgGk5XHTxHC",
      "include_colab_link": true
    },
    "kernelspec": {
      "name": "python3",
      "display_name": "Python 3"
    },
    "language_info": {
      "name": "python"
    }
  },
  "cells": [
    {
      "cell_type": "markdown",
      "metadata": {
        "id": "view-in-github",
        "colab_type": "text"
      },
      "source": [
        "<a href=\"https://colab.research.google.com/github/anabella5/codigos-tesis/blob/main/GeneracionesArbol.ipynb\" target=\"_parent\"><img src=\"https://colab.research.google.com/assets/colab-badge.svg\" alt=\"Open In Colab\"/></a>"
      ]
    },
    {
      "cell_type": "code",
      "source": [
        "def generar_sucesion(generaciones):\n",
        "    sucesion = \"B\"\n",
        "\n",
        "    for _ in range(generaciones):\n",
        "        nueva_sucesion = \"\"\n",
        "        for caracter in sucesion:\n",
        "            if caracter == \"B\":\n",
        "                nueva_sucesion += \"NBB\"\n",
        "            elif caracter == \"N\":\n",
        "                nueva_sucesion += \"NB\"\n",
        "        sucesion = \"B\" + nueva_sucesion\n",
        "\n",
        "    return sucesion\n",
        "\n",
        "def main():\n",
        "    generaciones = int(input(\"¿Cuántas generaciones quieres ver? \"))\n",
        "    resultado = generar_sucesion(generaciones)\n",
        "    print(f\"Secuencia después de {generaciones} iteraciones: {resultado}\")\n",
        "\n",
        "if __name__ == \"__main__\":\n",
        "    main()\n"
      ],
      "metadata": {
        "colab": {
          "base_uri": "https://localhost:8080/"
        },
        "id": "Otj1BG_BqRb9",
        "outputId": "82f60355-8d24-490b-b9e2-aab1e84db099"
      },
      "execution_count": 10,
      "outputs": [
        {
          "output_type": "stream",
          "name": "stdout",
          "text": [
            "¿Cuántas generaciones quieres ver? 1\n",
            "Sucesión después de 1 iteraciones: BNBB\n"
          ]
        }
      ]
    }
  ]
}
