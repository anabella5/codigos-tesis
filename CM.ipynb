{
  "nbformat": 4,
  "nbformat_minor": 0,
  "metadata": {
    "colab": {
      "provenance": [],
      "authorship_tag": "ABX9TyMzGHmHQRx+b9lw/8I3BJ20",
      "include_colab_link": true
    },
    "kernelspec": {
      "name": "python3",
      "display_name": "Python 3"
    },
    "language_info": {
      "name": "python"
    }
  },
  "cells": [
    {
      "cell_type": "markdown",
      "metadata": {
        "id": "view-in-github",
        "colab_type": "text"
      },
      "source": [
        "<a href=\"https://colab.research.google.com/github/anabella5/codigos-tesis/blob/main/CM.ipynb\" target=\"_parent\"><img src=\"https://colab.research.google.com/assets/colab-badge.svg\" alt=\"Open In Colab\"/></a>"
      ]
    },
    {
      "cell_type": "code",
      "execution_count": 9,
      "metadata": {
        "id": "wTwO1BxIS9Ep"
      },
      "outputs": [],
      "source": [
        "class RegisterMachine:\n",
        "    def __init__(self):\n",
        "        self.registers = [22, 34]                           #valores que se les da a los registros al iniciar\n",
        "\n",
        "    def run_program(self, instrucciones):\n",
        "        pc = 0\n",
        "        while pc < len(instrucciones):\n",
        "            instruction = instrucciones[pc]\n",
        "            opcode, *operands = instruction\n",
        "\n",
        "            if opcode == 'IN':\n",
        "                register_index = operands[0]\n",
        "                self.registers[register_index] += 1         #incrementa el número del registro indicado\n",
        "            elif opcode == 'DS':\n",
        "                register_index = operands[0]\n",
        "                if self.registers[register_index] > 0:      #si el registro no está vacío lo disminuye uno\n",
        "                    self.registers[register_index] -= 1\n",
        "                else:\n",
        "                    break                                   #si el registro está vacío se termina el programa\n",
        "            elif opcode == 'JMP':\n",
        "                jump_target = operands[0]\n",
        "                pc = jump_target - 1\n",
        "            else:\n",
        "                raise ValueError(f\"Unknown opcode: {opcode}\")\n",
        "\n",
        "            pc += 1\n",
        "\n",
        "        return self.registers\n"
      ]
    },
    {
      "cell_type": "code",
      "source": [
        "instrucciones = [\n",
        "    ('IN', 0),              #incrementar registro 0 (alfa en el texto)\n",
        "    ('DS', 1),              #disminuir registro 1 (beta en el texto)\n",
        "    ('IN', 0),              #incrementar registro 0\n",
        "    ('DS', 1),              #disminuir registro 1\n",
        "    ('JMP', 1),             #salto a la instrucción 1\n",
        "]\n",
        "\n",
        "register_machine = RegisterMachine()\n",
        "result = register_machine.run_program(instrucciones)\n",
        "\n",
        "print(\"Result:\", result)"
      ],
      "metadata": {
        "colab": {
          "base_uri": "https://localhost:8080/"
        },
        "id": "DsTasK2sTORb",
        "outputId": "2a822ba8-aa61-4fd5-d729-1f430be3248a"
      },
      "execution_count": 10,
      "outputs": [
        {
          "output_type": "stream",
          "name": "stdout",
          "text": [
            "Result: [40, 0]\n"
          ]
        }
      ]
    }
  ]
}